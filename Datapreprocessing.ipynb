{
  "nbformat": 4,
  "nbformat_minor": 0,
  "metadata": {
    "colab": {
      "provenance": [],
      "authorship_tag": "ABX9TyNstEF7FPyxBb1GzYzk/0GG",
      "include_colab_link": true
    },
    "kernelspec": {
      "name": "python3",
      "display_name": "Python 3"
    },
    "language_info": {
      "name": "python"
    }
  },
  "cells": [
    {
      "cell_type": "markdown",
      "metadata": {
        "id": "view-in-github",
        "colab_type": "text"
      },
      "source": [
        "<a href=\"https://colab.research.google.com/github/riyatyagi123/first_iris/blob/main/Datapreprocessing.ipynb\" target=\"_parent\"><img src=\"https://colab.research.google.com/assets/colab-badge.svg\" alt=\"Open In Colab\"/></a>"
      ]
    },
    {
      "cell_type": "code",
      "execution_count": null,
      "metadata": {
        "colab": {
          "base_uri": "https://localhost:8080/"
        },
        "id": "HoUD8Vkq5wB7",
        "outputId": "500d29d8-4535-4e69-96d9-9601c8beddfb"
      },
      "outputs": [
        {
          "output_type": "stream",
          "name": "stdout",
          "text": [
            "78\n"
          ]
        }
      ],
      "source": [
        "import numpy as np\n",
        "import pandas as pd\n",
        "import random\n",
        "random_num=random.randint(0,100)\n",
        "print(random_num)"
      ]
    },
    {
      "cell_type": "code",
      "source": [
        "import numpy as np\n",
        "import pandas as pd\n",
        "\n",
        "data={\n",
        "    'A':np.random.randn(100),  # Generate 1D arrays\n",
        "    'B':np.random.randn(100),\n",
        "    'C':np.random.randn(100)\n",
        "}\n",
        "data['A'][: : 10] = np.nan  # Set every 10th element to NaN\n",
        "data['B'][: : 10] = np.nan\n",
        "data['C'][: : 10] = np.nan\n",
        "print(pd.isnull(data))\n",
        "print(data)\n"
      ],
      "metadata": {
        "colab": {
          "base_uri": "https://localhost:8080/"
        },
        "id": "20FAWhI_-afm",
        "outputId": "03e41f1f-7fc8-4021-d1f1-aade24c258e8"
      },
      "execution_count": null,
      "outputs": [
        {
          "output_type": "stream",
          "name": "stdout",
          "text": [
            "False\n",
            "{'A': array([        nan,  0.68894689, -0.2029834 , -0.03120944,  1.15278844,\n",
            "       -0.27570835,  1.16678922, -0.02767931, -0.20550176,  2.55254181,\n",
            "               nan,  0.73520098, -0.25139634, -1.65861162, -0.54197595,\n",
            "        1.16320153,  0.30603675,  0.09151549,  0.11920939, -0.03196593,\n",
            "               nan, -0.84388373, -0.37461502, -0.07631125,  0.1252503 ,\n",
            "        0.69696038, -0.11238937,  0.964827  , -0.30738972, -0.14898856,\n",
            "               nan,  0.63122172,  2.10232509,  0.26857987,  0.84865072,\n",
            "       -0.67553056, -0.57896015,  0.04880573,  0.27861166, -0.82154722,\n",
            "               nan, -0.17644685,  0.95572871,  0.02972411, -0.95925757,\n",
            "       -0.59450345,  0.38285305, -1.07751866, -0.29424377,  1.73402499,\n",
            "               nan,  1.1640962 ,  0.94714829, -0.56398414, -0.62198347,\n",
            "        0.45010612,  2.18411365,  2.07382787,  0.72731268, -1.24565955,\n",
            "               nan,  1.52388687,  0.72133569, -0.14547688,  0.42670339,\n",
            "       -0.81361436, -0.39542798,  1.78222083,  0.22407391, -0.03272726,\n",
            "               nan,  0.7375196 ,  0.39433314, -0.00379121,  0.69227617,\n",
            "        0.44992948, -0.63688632,  0.67660928,  0.46976077, -0.14420949,\n",
            "               nan,  0.2444272 , -0.06845844,  1.33176442,  1.62154577,\n",
            "        1.52634398, -0.00995779, -1.50403879, -1.1295239 ,  0.61291093,\n",
            "               nan, -0.96044236,  0.35088469,  1.51660546,  1.37051997,\n",
            "       -0.20746966,  0.13220965,  1.62749533, -0.25756313, -1.58227383]), 'B': array([        nan,  1.68979214, -2.10876377,  0.6724548 ,  1.83295116,\n",
            "        1.47290147,  1.86539522,  1.02488983,  0.41375312, -0.40934389,\n",
            "               nan,  0.6002445 , -1.45491317, -1.35274985, -1.5840604 ,\n",
            "       -0.22284192,  0.95376201,  0.70984969,  1.02060237, -0.12867186,\n",
            "               nan, -0.478729  , -0.20848735,  0.58697145,  0.39493026,\n",
            "       -2.74372038, -1.22034599,  0.48370542, -0.36935122, -0.03206025,\n",
            "               nan, -0.14754136, -1.12267399,  1.45551145, -1.54774235,\n",
            "       -0.67460959, -0.22212631, -0.15439617, -0.00552123,  0.49823068,\n",
            "               nan,  0.06690021,  0.78698794, -0.15736444, -0.82166995,\n",
            "        0.94869195,  0.55205949, -0.12913697,  0.66205219, -0.53502053,\n",
            "               nan, -0.44667487, -0.76543215,  0.52813471, -1.25081372,\n",
            "        1.44214655, -1.36175177, -0.83744903,  1.90144857, -0.84702048,\n",
            "               nan,  0.96080386, -0.75108551,  0.64661832,  0.28200775,\n",
            "       -0.098696  , -0.91397696,  1.21969359,  1.20769741, -0.11449361,\n",
            "               nan, -0.18102904,  0.31002756, -0.67580312,  1.41804143,\n",
            "        0.26245308, -0.06137812,  0.79302789, -0.28123832, -0.54535027,\n",
            "               nan,  1.04713009, -1.09739482,  0.02791319, -0.42130277,\n",
            "        0.07528981,  0.24253911,  1.041083  ,  0.13551912, -0.96260399,\n",
            "               nan, -0.94052729,  0.60498856,  0.0525036 ,  0.792849  ,\n",
            "        0.22495565, -1.74260784, -0.49177435,  0.31477945,  1.03520943]), 'C': array([        nan,  1.03860966,  0.63354032, -1.16151609, -0.43834968,\n",
            "       -0.02429524, -1.24303114,  1.09178691,  0.4283463 ,  0.3229826 ,\n",
            "               nan,  0.15979565, -1.08799025, -1.32839246,  0.00316129,\n",
            "        2.04317879,  1.39614985, -0.87064019,  0.43906492,  1.18190833,\n",
            "               nan,  0.35435103,  0.1849374 , -0.28857604, -0.03521046,\n",
            "        0.15624358, -0.44400209, -2.20333453,  0.4029337 ,  1.30106006,\n",
            "               nan, -0.19514668,  0.35802603,  0.35144251,  1.50294891,\n",
            "        0.1110426 ,  1.80299699,  0.56654416,  0.55611885, -0.65546326,\n",
            "               nan,  1.03565498,  1.49635033, -0.17616343,  0.23498737,\n",
            "       -1.31007189,  1.1915911 , -0.45795647, -2.39153731,  0.29350488,\n",
            "               nan,  0.87896508, -0.54861419, -0.27467805, -1.51959818,\n",
            "        0.48209962, -1.330447  , -0.77241789, -0.20967834,  1.31455137,\n",
            "               nan,  0.08020148,  0.63160961, -0.18334227, -0.41515651,\n",
            "       -0.40246114, -1.55782649,  0.66561513,  0.6591088 ,  0.57091446,\n",
            "               nan, -1.04035108,  1.94640493,  0.92995742, -0.35824209,\n",
            "       -0.23768043,  1.59231042, -0.32093818,  0.73974314, -2.74908258,\n",
            "               nan, -1.13916892,  0.07511329, -0.27748144,  1.5456753 ,\n",
            "       -1.16695833, -1.20792956, -0.09361324, -0.56184858,  1.48916295,\n",
            "               nan, -1.52653768, -1.18402253, -0.13461353, -0.5864516 ,\n",
            "        0.90337076, -0.18587306,  0.55318129, -0.60497459, -1.33956354])}\n"
          ]
        }
      ]
    },
    {
      "cell_type": "code",
      "source": [
        "df = pd.DataFrame(data)\n",
        "df_mean=df.fillna(df.mean())\n",
        "df_median=df.fillna(df.median())\n",
        "print(df)\n",
        "print(df_mean)\n",
        "df_drop=df.dropna()\n",
        "print(df_drop)"
      ],
      "metadata": {
        "colab": {
          "base_uri": "https://localhost:8080/"
        },
        "id": "GnB1NFpVDo2i",
        "outputId": "2a32edd1-516f-4965-da7d-16dff97fa080"
      },
      "execution_count": null,
      "outputs": [
        {
          "output_type": "stream",
          "name": "stdout",
          "text": [
            "           A         B         C\n",
            "0        NaN       NaN       NaN\n",
            "1   0.688947  1.689792  1.038610\n",
            "2  -0.202983 -2.108764  0.633540\n",
            "3  -0.031209  0.672455 -1.161516\n",
            "4   1.152788  1.832951 -0.438350\n",
            "..       ...       ...       ...\n",
            "95 -0.207470  0.224956  0.903371\n",
            "96  0.132210 -1.742608 -0.185873\n",
            "97  1.627495 -0.491774  0.553181\n",
            "98 -0.257563  0.314779 -0.604975\n",
            "99 -1.582274  1.035209 -1.339564\n",
            "\n",
            "[100 rows x 3 columns]\n",
            "           A         B         C\n",
            "0   0.249241  0.029325 -0.006044\n",
            "1   0.688947  1.689792  1.038610\n",
            "2  -0.202983 -2.108764  0.633540\n",
            "3  -0.031209  0.672455 -1.161516\n",
            "4   1.152788  1.832951 -0.438350\n",
            "..       ...       ...       ...\n",
            "95 -0.207470  0.224956  0.903371\n",
            "96  0.132210 -1.742608 -0.185873\n",
            "97  1.627495 -0.491774  0.553181\n",
            "98 -0.257563  0.314779 -0.604975\n",
            "99 -1.582274  1.035209 -1.339564\n",
            "\n",
            "[100 rows x 3 columns]\n",
            "           A         B         C\n",
            "1   0.688947  1.689792  1.038610\n",
            "2  -0.202983 -2.108764  0.633540\n",
            "3  -0.031209  0.672455 -1.161516\n",
            "4   1.152788  1.832951 -0.438350\n",
            "5  -0.275708  1.472901 -0.024295\n",
            "..       ...       ...       ...\n",
            "95 -0.207470  0.224956  0.903371\n",
            "96  0.132210 -1.742608 -0.185873\n",
            "97  1.627495 -0.491774  0.553181\n",
            "98 -0.257563  0.314779 -0.604975\n",
            "99 -1.582274  1.035209 -1.339564\n",
            "\n",
            "[90 rows x 3 columns]\n"
          ]
        }
      ]
    },
    {
      "cell_type": "code",
      "source": [
        "\n",
        "df.info()"
      ],
      "metadata": {
        "colab": {
          "base_uri": "https://localhost:8080/"
        },
        "id": "wShQ3g2QGXzg",
        "outputId": "76fea087-6f2e-45db-c8b9-95d1a5858c38"
      },
      "execution_count": null,
      "outputs": [
        {
          "output_type": "stream",
          "name": "stdout",
          "text": [
            "<class 'pandas.core.frame.DataFrame'>\n",
            "RangeIndex: 100 entries, 0 to 99\n",
            "Data columns (total 3 columns):\n",
            " #   Column  Non-Null Count  Dtype  \n",
            "---  ------  --------------  -----  \n",
            " 0   A       90 non-null     float64\n",
            " 1   B       90 non-null     float64\n",
            " 2   C       90 non-null     float64\n",
            "dtypes: float64(3)\n",
            "memory usage: 2.5 KB\n"
          ]
        }
      ]
    },
    {
      "cell_type": "code",
      "source": [
        "df.isnull().sum()"
      ],
      "metadata": {
        "colab": {
          "base_uri": "https://localhost:8080/",
          "height": 178
        },
        "id": "5tV2RrEvGn9_",
        "outputId": "5db6fd48-2d26-4d7a-eb14-ceb70743a1f2"
      },
      "execution_count": null,
      "outputs": [
        {
          "output_type": "execute_result",
          "data": {
            "text/plain": [
              "A    10\n",
              "B    10\n",
              "C    10\n",
              "dtype: int64"
            ],
            "text/html": [
              "<div>\n",
              "<style scoped>\n",
              "    .dataframe tbody tr th:only-of-type {\n",
              "        vertical-align: middle;\n",
              "    }\n",
              "\n",
              "    .dataframe tbody tr th {\n",
              "        vertical-align: top;\n",
              "    }\n",
              "\n",
              "    .dataframe thead th {\n",
              "        text-align: right;\n",
              "    }\n",
              "</style>\n",
              "<table border=\"1\" class=\"dataframe\">\n",
              "  <thead>\n",
              "    <tr style=\"text-align: right;\">\n",
              "      <th></th>\n",
              "      <th>0</th>\n",
              "    </tr>\n",
              "  </thead>\n",
              "  <tbody>\n",
              "    <tr>\n",
              "      <th>A</th>\n",
              "      <td>10</td>\n",
              "    </tr>\n",
              "    <tr>\n",
              "      <th>B</th>\n",
              "      <td>10</td>\n",
              "    </tr>\n",
              "    <tr>\n",
              "      <th>C</th>\n",
              "      <td>10</td>\n",
              "    </tr>\n",
              "  </tbody>\n",
              "</table>\n",
              "</div><br><label><b>dtype:</b> int64</label>"
            ]
          },
          "metadata": {},
          "execution_count": 6
        }
      ]
    },
    {
      "cell_type": "code",
      "source": [
        "from sklearn.impute import SimpleImputer # used for handling missing data\n",
        "imputer = SimpleImputer(missing_values=np.nan, strategy='mean')\n",
        "imputer = imputer.fit(df)\n",
        "data1 = imputer.transform(df)"
      ],
      "metadata": {
        "id": "f9iLRPscDh3I"
      },
      "execution_count": null,
      "outputs": []
    },
    {
      "cell_type": "code",
      "source": [
        "print(data1)"
      ],
      "metadata": {
        "colab": {
          "base_uri": "https://localhost:8080/"
        },
        "id": "0g3_bLctEapV",
        "outputId": "9a25103b-f049-40b2-84ef-50ae689683b3"
      },
      "execution_count": null,
      "outputs": [
        {
          "output_type": "stream",
          "name": "stdout",
          "text": [
            "[[ 0.04989636  0.07967998  0.11199546]\n",
            " [ 1.09731402  0.47584318 -1.20976753]\n",
            " [ 2.30807811 -0.1594223  -1.3870061 ]\n",
            " [-1.35380436 -0.72259826  0.19846722]\n",
            " [ 0.74303959  2.02021215 -1.7119069 ]\n",
            " [ 0.83313528 -0.37849031 -1.66364458]\n",
            " [-0.39673486 -1.002824   -1.49159065]\n",
            " [-1.08090429 -0.54909073  1.97964237]\n",
            " [ 1.02358934 -1.56575272  2.09595913]\n",
            " [-0.83758328  0.32460663 -0.37995272]\n",
            " [ 0.04989636  0.07967998  0.11199546]\n",
            " [ 0.33122021  0.383122   -1.45518871]\n",
            " [-0.04575669 -0.48109664  0.9062686 ]\n",
            " [ 1.99655358 -0.52999537  0.83345821]\n",
            " [-1.7161631   0.92877351  1.40625724]\n",
            " [ 2.06307771 -0.1746399  -0.61992339]\n",
            " [ 0.69546372  1.08416229  0.73663634]\n",
            " [ 2.62009182 -0.70133796  0.26309395]\n",
            " [ 0.41450044 -0.65451398 -0.06665836]\n",
            " [ 1.1666065  -0.96921649  1.20999909]\n",
            " [ 0.04989636  0.07967998  0.11199546]\n",
            " [-0.23093772  1.40425338 -0.34194325]\n",
            " [-1.03854682 -0.47483848 -0.18197259]\n",
            " [ 1.16509077  0.81374913  0.03873927]\n",
            " [-0.85185097  0.13824691  1.01437205]\n",
            " [-1.35043539 -0.10613875  1.2666014 ]\n",
            " [ 0.35222612  0.18481887  1.78869935]\n",
            " [-1.1300457   0.27457376 -1.73271146]\n",
            " [-0.2320996   1.8965214   0.54391107]\n",
            " [-0.71538436  2.15327949  0.18408293]\n",
            " [ 0.04989636  0.07967998  0.11199546]\n",
            " [ 1.79088336  1.45120071  0.5263238 ]\n",
            " [ 0.58024581 -1.63548386  1.37768891]\n",
            " [ 0.9421221   0.13022048 -0.50298683]\n",
            " [-0.69190359 -0.06241847 -0.1728279 ]\n",
            " [-1.45652712  0.18228292 -0.01083667]\n",
            " [ 0.6305363  -0.7272612   1.20631906]\n",
            " [ 0.56623769 -0.75333066  0.83990563]\n",
            " [-1.26869446  1.64935543  0.70488309]\n",
            " [-1.35771618  2.05208363  0.62748573]\n",
            " [ 0.04989636  0.07967998  0.11199546]\n",
            " [-1.28299562  0.73827058  1.35375274]\n",
            " [-0.69611642  0.27017575 -0.04878088]\n",
            " [ 0.20238692  0.15362526 -0.44629122]\n",
            " [ 1.29012849  1.95995715  0.85845237]\n",
            " [ 0.77839255  0.71169254 -0.19323205]\n",
            " [-0.28677495 -1.19535337  0.0137638 ]\n",
            " [-0.37281555 -0.16676155 -1.8338396 ]\n",
            " [-0.67482518  1.15697804  1.00630838]\n",
            " [-0.46835537 -1.72052634  0.67906647]\n",
            " [ 0.04989636  0.07967998  0.11199546]\n",
            " [ 0.57502599  0.4469416   0.53555683]\n",
            " [-0.29281071 -1.07205092 -0.17353335]\n",
            " [-0.26814452  0.7578793  -0.65788816]\n",
            " [ 1.0838257   0.74372303 -0.60987373]\n",
            " [ 0.30770909  1.82032603  0.2751318 ]\n",
            " [ 1.38068913 -0.39390886 -1.06478578]\n",
            " [ 0.9202923  -1.27598612  1.21020953]\n",
            " [ 0.2185791   0.70010643  0.66474645]\n",
            " [-0.64626462 -0.7064718  -1.74411424]\n",
            " [ 0.04989636  0.07967998  0.11199546]\n",
            " [-2.37731422  0.01528958  0.0255875 ]\n",
            " [ 2.01544146  0.4904401   0.48630552]\n",
            " [ 0.86706669  0.1561338  -0.80480431]\n",
            " [-1.13182455 -1.03762009  0.40620416]\n",
            " [-0.52821074  0.84300318  0.77494382]\n",
            " [ 0.27005216  0.47154023  0.10971226]\n",
            " [ 0.70741987 -1.12918908 -1.4725208 ]\n",
            " [-1.54197465  0.20823071 -1.09907849]\n",
            " [-1.34303042 -0.57512285 -0.31240724]\n",
            " [ 0.04989636  0.07967998  0.11199546]\n",
            " [-1.01660426 -1.61206553 -0.0492217 ]\n",
            " [ 0.17782469  1.67093902 -0.15426999]\n",
            " [ 0.73193525 -1.1229949  -0.22040572]\n",
            " [ 0.85570518  1.72069211 -0.84957666]\n",
            " [ 0.23876386  1.36667207 -0.85491871]\n",
            " [ 0.7652606   1.10380611 -0.06187793]\n",
            " [ 1.9239542   0.26814096  0.0346999 ]\n",
            " [-0.72365589 -0.67638932  1.1205784 ]\n",
            " [-0.97949676 -0.0244154   1.29621078]\n",
            " [ 0.04989636  0.07967998  0.11199546]\n",
            " [-1.55081994 -0.68317476  0.86962538]\n",
            " [-1.8894314  -0.12280646 -0.2840816 ]\n",
            " [-0.91338542 -0.66406868  0.20484962]\n",
            " [ 2.44424496 -1.50183822 -0.60063466]\n",
            " [-1.02353846 -0.0520845   1.12618409]\n",
            " [ 2.07960378 -1.20555981  0.23973086]\n",
            " [-1.43752399 -0.35404407 -0.10497913]\n",
            " [-0.15513151 -1.02804777  1.0227016 ]\n",
            " [-0.10667584  0.86498012  0.96966975]\n",
            " [ 0.04989636  0.07967998  0.11199546]\n",
            " [-1.58072778  1.5012871  -0.28260704]\n",
            " [ 0.62994139 -1.68975016 -1.01767799]\n",
            " [ 0.37776482 -0.66305001  0.72659833]\n",
            " [-0.6885752   1.36999537 -0.22244956]\n",
            " [-0.15655958 -0.37528708 -1.43513388]\n",
            " [ 0.93916125 -0.20128631  2.19567349]\n",
            " [ 0.89279318  0.91657677  0.48935824]\n",
            " [ 0.85473988  0.24184682  0.15447034]\n",
            " [-0.46937031 -0.14705382  1.00860636]]\n"
          ]
        }
      ]
    },
    {
      "cell_type": "code",
      "source": [
        "import seaborn as sns\n",
        "import matplotlib.pyplot as plt\n",
        "\n",
        "plt.figure(figsize=(8, 6))\n",
        "sns.boxplot(data=data1)\n",
        "plt.title('Boxplot of Imputed Data')\n",
        "plt.xlabel('Columns')\n",
        "plt.ylabel('Values')\n",
        "plt.show()"
      ],
      "metadata": {
        "colab": {
          "base_uri": "https://localhost:8080/",
          "height": 564
        },
        "id": "S72hKJEtKQak",
        "outputId": "91f4dd6a-7213-44c3-d741-5601babfe25a"
      },
      "execution_count": null,
      "outputs": [
        {
          "output_type": "display_data",
          "data": {
            "text/plain": [
              "<Figure size 800x600 with 1 Axes>"
            ],
            "image/png": "[encoded data removed]"
          },
          "metadata": {}
        }
      ]
    },
    {
      "cell_type": "code",
      "source": [
        "from sklearn.model_selection import train_test_split\n",
        "from sklearn.preprocessing import StandardScaler\n",
        "!import dtale # used for better stdout of dataframes\n",
        "X = df.iloc[:, :-1].values # attributes to determine dependent variable / Class\n",
        "Y = df.iloc[:, -1].values # dependent variable / Class\n",
        "X_train, X_test, Y_train, Y_test = train_test_split(X, Y, test_size=0.3, random_state=0)\n",
        "sc_X = StandardScaler()\n",
        "X_train = sc_X.fit_transform(X_train)\n",
        "X_test = sc_X.transform(X_test)\n",
        "X_train"
      ],
      "metadata": {
        "colab": {
          "base_uri": "https://localhost:8080/"
        },
        "id": "UzD4iN_G6g2K",
        "outputId": "2c8427e0-8201-4097-eaad-c677c2a884d2"
      },
      "execution_count": null,
      "outputs": [
        {
          "output_type": "stream",
          "name": "stdout",
          "text": [
            "/bin/bash: line 1: import: command not found\n"
          ]
        },
        {
          "output_type": "execute_result",
          "data": {
            "text/plain": [
              "array([[        nan,         nan],\n",
              "       [        nan,         nan],\n",
              "       [        nan,         nan],\n",
              "       [-0.16199393,  1.29623062],\n",
              "       [ 0.82965688, -0.46037577],\n",
              "       [ 0.61944329,  0.5274986 ],\n",
              "       [-0.27261787,  1.09757379],\n",
              "       [ 1.90569639, -1.43200104],\n",
              "       [-0.55184142,  0.70047891],\n",
              "       [ 0.33192324,  1.51957312],\n",
              "       [ 0.32841111,  1.80811702],\n",
              "       [ 1.20920821,  1.03407996],\n",
              "       [ 0.6098453 ,  0.84952285],\n",
              "       [-0.58451235,  0.08493636],\n",
              "       [ 0.81772807,  1.96012274],\n",
              "       [ 0.82871307, -0.22271076],\n",
              "       [-0.3018328 ,  0.76761775],\n",
              "       [        nan,         nan],\n",
              "       [-0.10446082,  0.00803955],\n",
              "       [-0.68922555,  1.57782331],\n",
              "       [-1.41156696, -0.98474644],\n",
              "       [-1.71244903, -0.88546126],\n",
              "       [        nan,         nan],\n",
              "       [ 0.4968863 , -1.62948514],\n",
              "       [-0.72264695, -0.37827379],\n",
              "       [        nan,         nan],\n",
              "       [ 0.3772056 ,  0.65123936],\n",
              "       [-1.11100705, -0.70239601],\n",
              "       [-0.47887703,  0.63714609],\n",
              "       [ 0.60079361, -0.79883106],\n",
              "       [        nan,         nan],\n",
              "       [ 0.26751552, -0.1427569 ],\n",
              "       [-0.81552049, -0.9565554 ],\n",
              "       [ 1.78935342, -0.87529832],\n",
              "       [-0.55050443, -0.56514894],\n",
              "       [ 1.21180026,  0.09384441],\n",
              "       [ 1.81941578, -1.17814913],\n",
              "       [ 1.31223079, -0.43343576],\n",
              "       [-0.97011727, -1.66804752],\n",
              "       [ 0.24819905, -1.0081874 ],\n",
              "       [-0.43209615, -0.12272134],\n",
              "       [-0.55554597, -0.02013949],\n",
              "       [ 1.43088767, -0.55418086],\n",
              "       [ 1.31850712, -0.50826222],\n",
              "       [-0.67008374,  0.34813363],\n",
              "       [-0.43289929, -0.10766693],\n",
              "       [        nan,         nan],\n",
              "       [ 1.04741799,  0.85574611],\n",
              "       [ 0.0176164 ,  0.34308808],\n",
              "       [ 0.31539589,  0.85593605],\n",
              "       [ 0.33686473, -2.8993702 ],\n",
              "       [-0.34688829, -0.15003532],\n",
              "       [-0.14052278,  1.12574082],\n",
              "       [ 0.00550579,  0.60007669],\n",
              "       [-1.26504333,  0.54292146],\n",
              "       [-1.25667478, -0.09089309],\n",
              "       [ 0.36888406,  2.03285304],\n",
              "       [-0.66357826, -1.53091947],\n",
              "       [-1.5899349 ,  0.15779567],\n",
              "       [        nan,         nan],\n",
              "       [-1.98501915,  1.11932005],\n",
              "       [-1.00913274, -0.22195093],\n",
              "       [-1.28860662, -0.49441072],\n",
              "       [ 1.00653388,  0.04354009],\n",
              "       [ 2.29435959, -0.42073786],\n",
              "       [-0.25890361, -1.83639261],\n",
              "       [ 1.48173055,  1.30896812],\n",
              "       [ 0.0517645 ,  0.31333675],\n",
              "       [-1.5350734 , -0.12321519],\n",
              "       [-1.4103171 , -0.85854416]])"
            ]
          },
          "metadata": {},
          "execution_count": 9
        }
      ]
    },
    {
      "cell_type": "code",
      "source": [
        "plt.figure(figsize=(8, 6))\n",
        "sns.histplot(data=data1, kde=True,color='blue' )\n",
        "plt.title('Bell Curve (KDE Plot) of Imputed Data')\n",
        "plt.xlabel('Values')\n",
        "plt.ylabel('Density')\n",
        "plt.show()"
      ],
      "metadata": {
        "id": "a3jwdUZ16yvV",
        "colab": {
          "base_uri": "https://localhost:8080/",
          "height": 564
        },
        "outputId": "c5c95514-434c-433b-e55e-ac56f42be06a"
      },
      "execution_count": null,
      "outputs": [
        {
          "output_type": "display_data",
          "data": {
            "text/plain": [
              "<Figure size 800x600 with 1 Axes>"
            ],
            "image/png": "[encoded data removed]"
          },
          "metadata": {}
        }
      ]
    },
    {
      "cell_type": "code",
      "source": [
        "upper_limit=df.A.mean()+3*df.A.std()\n",
        "lower_limit=df.A.mean()-3*df.A.std()\n",
        "print(upper_limit)\n",
        "print(lower_limit)\n",
        "z_score=upper_limit-lower_limit\n",
        "print(z_score)"
      ],
      "metadata": {
        "colab": {
          "base_uri": "https://localhost:8080/"
        },
        "id": "3oMxbMofF-MV",
        "outputId": "6dcb4272-9690-418e-da39-c888608b1829"
      },
      "execution_count": null,
      "outputs": [
        {
          "output_type": "stream",
          "name": "stdout",
          "text": [
            "2.5379581402972224\n",
            "-2.5602850761399774\n",
            "5.0982432164372\n"
          ]
        }
      ]
    },
    {
      "cell_type": "code",
      "source": [
        "import pandas as pd\n",
        "import numpy as np\n",
        "import seaborn as sns\n",
        "from scipy import stats\n",
        "\n",
        "# Assuming data1 is already defined\n",
        "z_scores = np.abs(stats.zscore(data1))\n",
        "df_no_outliers_zscore = data1[(z_scores < 3).all(axis=1)]\n",
        "print(df_no_outliers_zscore)\n"
      ],
      "metadata": {
        "colab": {
          "base_uri": "https://localhost:8080/"
        },
        "id": "OGkvU4NuLa5M",
        "outputId": "4532e866-b56a-46d8-f49f-1dba01a8f899"
      },
      "execution_count": null,
      "outputs": [
        {
          "output_type": "stream",
          "name": "stdout",
          "text": [
            "[[-0.01116347 -0.09876409  0.08327921]\n",
            " [ 0.9715184   0.21639426  0.15224641]\n",
            " [-0.92450337  1.90494939  0.89183172]\n",
            " [ 0.1005901   0.33609446  2.13658835]\n",
            " [-0.26156004  0.4506216   1.48603198]\n",
            " [ 0.80594213 -0.59567253 -1.9084941 ]\n",
            " [-0.32749592 -0.19215268  0.9325377 ]\n",
            " [ 0.51779144 -0.83522942  0.00406084]\n",
            " [-0.78985695  2.36707129  0.01741825]\n",
            " [ 0.49532082 -0.93781337  3.04773096]\n",
            " [-0.01116347 -0.09876409  0.08327921]\n",
            " [ 1.1104755   1.10018971 -0.50996003]\n",
            " [ 0.51457805  0.10388556  0.0858565 ]\n",
            " [-0.61821082  0.1961307   0.24207269]\n",
            " [-1.4579894  -1.56679316 -0.21370331]\n",
            " [-0.77923069  0.79259822 -1.70818084]\n",
            " [-0.86455654 -1.98494258  0.09514441]\n",
            " [ 0.98825377 -0.0746683   0.27357079]\n",
            " [-0.73196834  0.22905338 -0.09285168]\n",
            " [ 0.30949679  0.18887749 -0.54057193]\n",
            " [-0.01116347 -0.09876409  0.08327921]\n",
            " [-1.67087471  1.52435531  0.39180272]\n",
            " [ 1.72491828 -0.05969659 -1.21234343]\n",
            " [-0.15284437  1.8156819   0.53540024]\n",
            " [ 0.39385452  1.11950996  0.71903094]\n",
            " [-0.87467092 -1.1598419   1.01884169]\n",
            " [ 0.11391937 -0.66820036 -0.51906433]\n",
            " [ 0.66447098 -1.49348876 -0.46134562]\n",
            " [ 0.57847428  0.87876182 -0.58171106]\n",
            " [-0.01116347 -0.09876409  0.08327921]\n",
            " [ 0.55568624 -0.13082776 -0.99700434]\n",
            " [-0.64394262  0.28623578 -0.39199108]\n",
            " [ 0.15703339  1.15867813 -0.77046457]\n",
            " [ 0.81209868 -1.94649359 -1.35430156]\n",
            " [ 1.29672938 -2.06553846  0.61056045]\n",
            " [-0.7629014  -0.71745858 -0.29412066]\n",
            " [ 0.04239271 -0.63974933 -0.54948631]\n",
            " [ 0.16337305  0.95165891  2.0552921 ]\n",
            " [ 0.13422729  0.99768436 -0.81983632]\n",
            " [-0.01116347 -0.09876409  0.08327921]\n",
            " [ 0.05775682  0.51580882 -0.77462547]\n",
            " [-1.25203476  0.82175671  1.36176026]\n",
            " [-0.45528386 -0.15488648 -0.02266987]\n",
            " [ 1.62307115 -1.06973763 -0.38387601]\n",
            " [-0.21728139  0.65806544 -0.01217807]\n",
            " [ 0.92463738 -0.64864978  1.36699312]\n",
            " [ 0.48672923 -0.31489274 -0.66482856]\n",
            " [-0.87408519  0.0967747   0.45093517]\n",
            " [ 1.69954428  0.12186743 -2.18974695]\n",
            " [-0.01116347 -0.09876409  0.08327921]\n",
            " [ 0.15557388 -0.68799071 -1.22643419]\n",
            " [ 0.21413149 -1.05794741  0.7874272 ]\n",
            " [ 0.3720104  -2.2990363   2.08950669]\n",
            " [-0.30238885 -0.9580616   1.5731317 ]\n",
            " [ 0.73275792  0.46710625  1.00321846]\n",
            " [-0.19731339  0.380255   -0.74899775]\n",
            " [ 0.56062174  1.20307201 -0.9901721 ]\n",
            " [ 0.01724674  1.18868799 -1.04420316]\n",
            " [-0.61574711 -1.39140909 -0.01793532]\n",
            " [-0.01116347 -0.09876409  0.08327921]\n",
            " [ 0.71800939 -1.31168553  1.62763274]\n",
            " [-0.75259626  0.3979371   0.38678657]\n",
            " [-0.03404431  0.05424697  2.5618707 ]\n",
            " [ 0.04597378 -0.18032019  0.35055725]\n",
            " [-0.71857221  0.61777873  0.91373555]\n",
            " [-0.90474979 -0.80746732 -0.06223804]\n",
            " [-0.4531125  -0.33600629 -0.45384273]\n",
            " [ 0.31151034  1.92538945  0.25847208]\n",
            " [ 0.20414488  0.84862443  0.35100545]\n",
            " [-0.01116347 -0.09876409  0.08327921]\n",
            " [ 0.51872681  2.35932216 -0.15854059]\n",
            " [-0.28519436 -1.84862472 -0.17267939]\n",
            " [-0.17403727  0.65467036  1.12512222]\n",
            " [ 0.21570265 -0.84133565  1.95014008]\n",
            " [ 0.56026739 -1.5519533   0.89225922]\n",
            " [-1.27477086  1.08404621 -0.53360741]\n",
            " [-1.52982578 -0.05902747  0.51737513]\n",
            " [-1.42834568 -0.96134378 -0.83647317]\n",
            " [ 0.96674426 -1.44822883  1.55838217]\n",
            " [-0.01116347 -0.09876409  0.08327921]\n",
            " [-0.19603947  0.26765159 -0.19718247]\n",
            " [-0.16319233  1.3461926   0.52839573]\n",
            " [-0.07682087 -0.43525716 -1.3291684 ]\n",
            " [-0.20706939 -0.58300203  1.43860051]\n",
            " [-0.38795506  0.49659291 -0.63273225]\n",
            " [ 0.68951649 -0.54865728 -1.87542302]\n",
            " [-0.58231006 -1.00170077 -0.9333588 ]\n",
            " [-1.68900343 -1.74711222  0.22496059]\n",
            " [ 1.70087651  1.0052403   2.78990085]\n",
            " [-0.01116347 -0.09876409  0.08327921]\n",
            " [-0.93156603  0.07998093 -1.90541948]\n",
            " [ 1.13775355 -1.10905086 -0.37473277]\n",
            " [ 0.79677487 -0.72897532 -0.860014  ]\n",
            " [-0.75550264 -0.80921938  0.51498501]\n",
            " [ 1.31460574 -0.01387097 -1.76458247]\n",
            " [ 0.15874487 -0.53183637 -0.34031664]\n",
            " [ 1.45556464  1.24998712 -1.35146369]\n",
            " [-0.72669114 -1.19662413  1.27270966]\n",
            " [-0.56181862 -1.31438791 -0.48238688]]\n"
          ]
        }
      ]
    },
    {
      "cell_type": "code",
      "source": [],
      "metadata": {
        "id": "0rr3LJW3Ndrv"
      },
      "execution_count": null,
      "outputs": []
    }
  ]
}